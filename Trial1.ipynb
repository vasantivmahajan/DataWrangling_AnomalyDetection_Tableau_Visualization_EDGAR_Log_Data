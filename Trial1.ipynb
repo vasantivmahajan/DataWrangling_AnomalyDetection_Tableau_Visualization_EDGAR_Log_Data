{
 "cells": [
  {
   "cell_type": "code",
   "execution_count": 7,
   "metadata": {
    "collapsed": false
   },
   "outputs": [
    {
     "name": "stdout",
     "output_type": "stream",
     "text": [
      "03\n"
     ]
    }
   ],
   "source": [
    "import pandas as pd\n",
    "\n",
    "combined_df = pd.read_csv(\"2003/log20030301.csv\") # not all months for now\n",
    "\n",
    "\n",
    "combined_df.insert(2, \"month\", \"\")\n",
    "sliced_df=combined_df.head(25)\n",
    "print(sliced_df[\"date\"][0].split(\"-\")[1])\n",
    "\n"
   ]
  },
  {
   "cell_type": "code",
   "execution_count": 19,
   "metadata": {
    "collapsed": false
   },
   "outputs": [
    {
     "name": "stderr",
     "output_type": "stream",
     "text": [
      "C:\\Program Files\\Anaconda3\\lib\\site-packages\\ipykernel\\__main__.py:5: SettingWithCopyWarning: \n",
      "A value is trying to be set on a copy of a slice from a DataFrame\n",
      "\n",
      "See the caveats in the documentation: http://pandas.pydata.org/pandas-docs/stable/indexing.html#indexing-view-versus-copy\n"
     ]
    },
    {
     "name": "stdout",
     "output_type": "stream",
     "text": [
      "int64\n"
     ]
    }
   ],
   "source": [
    "#combined_df.insert(3, \"hitcount_mean\", \"\")\n",
    "count = 0\n",
    "for i in sliced_df['date']:\n",
    "    #fetch the CIK number from the accession number and convert it into integer\n",
    "    combined_df['month'][count]=i.split(\"-\")[1]\n",
    "    count=count+1\n",
    "combined_df.head(5)   \n",
    "\n",
    "columns=[\"cik\",\"mean\"]\n",
    "temp_df=pd.DataFrame(columns=columns)\n",
    "temp_df=combined_df.groupby(['cik'])['cik'].count()\n",
    "print(temp_df.dtypes)"
   ]
  }
 ],
 "metadata": {
  "kernelspec": {
   "display_name": "Python [conda root]",
   "language": "python",
   "name": "conda-root-py"
  },
  "language_info": {
   "codemirror_mode": {
    "name": "ipython",
    "version": 3
   },
   "file_extension": ".py",
   "mimetype": "text/x-python",
   "name": "python",
   "nbconvert_exporter": "python",
   "pygments_lexer": "ipython3",
   "version": "3.5.2"
  }
 },
 "nbformat": 4,
 "nbformat_minor": 1
}
